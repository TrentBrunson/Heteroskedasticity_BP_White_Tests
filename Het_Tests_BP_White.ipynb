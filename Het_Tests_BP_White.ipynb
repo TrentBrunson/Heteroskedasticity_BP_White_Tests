{
 "cells": [
  {
   "cell_type": "code",
   "execution_count": 4,
   "metadata": {},
   "outputs": [],
   "source": [
    "#using BP and White Testing for Heteroscedasticity\n",
    "#going to use statsmodels for the OLS linear regression\n",
    "#going to use the car models fuel economy df from breakout 3"
   ]
  },
  {
   "cell_type": "code",
   "execution_count": 5,
   "metadata": {},
   "outputs": [],
   "source": [
    "import numpy as np\n",
    "import pandas as pd\n",
    "import statsmodels.api as sm\n",
    "import statsmodels.stats.api as sms\n",
    "import statsmodels.formula.api as smf\n",
    "from statsmodels.compat import lzip\n",
    "import matplotlib.pyplot as plt\n",
    "\n",
    "%matplotlib inline\n",
    "\n",
    "from win32com.client import Dispatch"
   ]
  },
  {
   "cell_type": "code",
   "execution_count": 20,
   "metadata": {},
   "outputs": [
    {
     "data": {
      "text/html": [
       "<div>\n",
       "<style scoped>\n",
       "    .dataframe tbody tr th:only-of-type {\n",
       "        vertical-align: middle;\n",
       "    }\n",
       "\n",
       "    .dataframe tbody tr th {\n",
       "        vertical-align: top;\n",
       "    }\n",
       "\n",
       "    .dataframe thead th {\n",
       "        text-align: right;\n",
       "    }\n",
       "</style>\n",
       "<table border=\"1\" class=\"dataframe\">\n",
       "  <thead>\n",
       "    <tr style=\"text-align: right;\">\n",
       "      <th></th>\n",
       "      <th>Name</th>\n",
       "      <th>Cmpg</th>\n",
       "      <th>Eng</th>\n",
       "      <th>Inv_eng</th>\n",
       "    </tr>\n",
       "  </thead>\n",
       "  <tbody>\n",
       "    <tr>\n",
       "      <th>0</th>\n",
       "      <td>Acura RL 3.7L</td>\n",
       "      <td>17</td>\n",
       "      <td>3.7</td>\n",
       "      <td>0.270270</td>\n",
       "    </tr>\n",
       "    <tr>\n",
       "      <th>1</th>\n",
       "      <td>Acura TL 2wd 3.5L</td>\n",
       "      <td>18</td>\n",
       "      <td>3.5</td>\n",
       "      <td>0.285714</td>\n",
       "    </tr>\n",
       "    <tr>\n",
       "      <th>2</th>\n",
       "      <td>Acura TL 4wd 3.7L</td>\n",
       "      <td>17</td>\n",
       "      <td>3.7</td>\n",
       "      <td>0.270270</td>\n",
       "    </tr>\n",
       "    <tr>\n",
       "      <th>3</th>\n",
       "      <td>Aston Martin DB9 5.9L</td>\n",
       "      <td>13</td>\n",
       "      <td>5.9</td>\n",
       "      <td>0.169492</td>\n",
       "    </tr>\n",
       "    <tr>\n",
       "      <th>4</th>\n",
       "      <td>Aston Martin DBS 5.9L</td>\n",
       "      <td>12</td>\n",
       "      <td>5.9</td>\n",
       "      <td>0.169492</td>\n",
       "    </tr>\n",
       "    <tr>\n",
       "      <th>...</th>\n",
       "      <td>...</td>\n",
       "      <td>...</td>\n",
       "      <td>...</td>\n",
       "      <td>...</td>\n",
       "    </tr>\n",
       "    <tr>\n",
       "      <th>346</th>\n",
       "      <td>Volvo XC60 Awd 3L</td>\n",
       "      <td>17</td>\n",
       "      <td>3.0</td>\n",
       "      <td>0.333333</td>\n",
       "    </tr>\n",
       "    <tr>\n",
       "      <th>347</th>\n",
       "      <td>Volvo XC60 Fwd 3.2L</td>\n",
       "      <td>18</td>\n",
       "      <td>3.2</td>\n",
       "      <td>0.312500</td>\n",
       "    </tr>\n",
       "    <tr>\n",
       "      <th>348</th>\n",
       "      <td>Volvo XC70 Awd 3.2L</td>\n",
       "      <td>18</td>\n",
       "      <td>3.2</td>\n",
       "      <td>0.312500</td>\n",
       "    </tr>\n",
       "    <tr>\n",
       "      <th>349</th>\n",
       "      <td>Volvo XC70 Awd 3L</td>\n",
       "      <td>17</td>\n",
       "      <td>3.0</td>\n",
       "      <td>0.333333</td>\n",
       "    </tr>\n",
       "    <tr>\n",
       "      <th>350</th>\n",
       "      <td>Volvo XC70 Fwd 3.2L</td>\n",
       "      <td>18</td>\n",
       "      <td>3.2</td>\n",
       "      <td>0.312500</td>\n",
       "    </tr>\n",
       "  </tbody>\n",
       "</table>\n",
       "<p>351 rows × 4 columns</p>\n",
       "</div>"
      ],
      "text/plain": [
       "                      Name  Cmpg  Eng   Inv_eng\n",
       "0            Acura RL 3.7L    17  3.7  0.270270\n",
       "1        Acura TL 2wd 3.5L    18  3.5  0.285714\n",
       "2        Acura TL 4wd 3.7L    17  3.7  0.270270\n",
       "3    Aston Martin DB9 5.9L    13  5.9  0.169492\n",
       "4    Aston Martin DBS 5.9L    12  5.9  0.169492\n",
       "..                     ...   ...  ...       ...\n",
       "346      Volvo XC60 Awd 3L    17  3.0  0.333333\n",
       "347    Volvo XC60 Fwd 3.2L    18  3.2  0.312500\n",
       "348    Volvo XC70 Awd 3.2L    18  3.2  0.312500\n",
       "349      Volvo XC70 Awd 3L    17  3.0  0.333333\n",
       "350    Volvo XC70 Fwd 3.2L    18  3.2  0.312500\n",
       "\n",
       "[351 rows x 4 columns]"
      ]
     },
     "execution_count": 20,
     "metadata": {},
     "output_type": "execute_result"
    }
   ],
   "source": [
    "file = ('data\\car models fuel economy.csv')\n",
    "df = pd.read_csv(file)\n",
    "df"
   ]
  },
  {
   "cell_type": "code",
   "execution_count": 21,
   "metadata": {},
   "outputs": [],
   "source": [
    "# #loading the jmp file into the environment as df\n",
    "# jmp = Dispatch(\"JMP.Application\")\n",
    "# doc = jmp.OpenDocument(\"data/car models fuel economy.jmp\")\n",
    "# print(doc)\n",
    "\n",
    "# doc.SaveAs(\"data/car models fuel economy.csv\")\n",
    "\n",
    "# df = pd.read_csv(\"data/car models fuel economy.csv\")\n",
    "# print(df.describe())"
   ]
  },
  {
   "cell_type": "code",
   "execution_count": 22,
   "metadata": {},
   "outputs": [
    {
     "name": "stdout",
     "output_type": "stream",
     "text": [
      "                            OLS Regression Results                            \n",
      "==============================================================================\n",
      "Dep. Variable:                   Cmpg   R-squared:                       0.751\n",
      "Model:                            OLS   Adj. R-squared:                  0.751\n",
      "Method:                 Least Squares   F-statistic:                     1055.\n",
      "Date:                Sat, 20 Nov 2021   Prob (F-statistic):          1.67e-107\n",
      "Time:                        11:49:44   Log-Likelihood:                -727.57\n",
      "No. Observations:                 351   AIC:                             1459.\n",
      "Df Residuals:                     349   BIC:                             1467.\n",
      "Df Model:                           1                                         \n",
      "Covariance Type:            nonrobust                                         \n",
      "==============================================================================\n",
      "                 coef    std err          t      P>|t|      [0.025      0.975]\n",
      "------------------------------------------------------------------------------\n",
      "Intercept     27.7994      0.298     93.210      0.000      27.213      28.386\n",
      "Eng           -2.6717      0.082    -32.474      0.000      -2.834      -2.510\n",
      "==============================================================================\n",
      "Omnibus:                        2.519   Durbin-Watson:                   1.241\n",
      "Prob(Omnibus):                  0.284   Jarque-Bera (JB):                2.315\n",
      "Skew:                           0.128   Prob(JB):                        0.314\n",
      "Kurtosis:                       3.305   Cond. No.                         11.2\n",
      "==============================================================================\n",
      "\n",
      "Notes:\n",
      "[1] Standard Errors assume that the covariance matrix of the errors is correctly specified.\n"
     ]
    }
   ],
   "source": [
    "model1 = smf.ols(formula = 'Cmpg ~ Eng', data = df).fit()\n",
    "print(model1.summary())"
   ]
  },
  {
   "cell_type": "code",
   "execution_count": 23,
   "metadata": {},
   "outputs": [
    {
     "data": {
      "image/png": "[encoded data removed]",
      "text/plain": [
       "<Figure size 432x288 with 1 Axes>"
      ]
     },
     "metadata": {
      "needs_background": "light"
     },
     "output_type": "display_data"
    },
    {
     "data": {
      "image/png": "[encoded data removed]",
      "text/plain": [
       "<Figure size 432x288 with 1 Axes>"
      ]
     },
     "metadata": {
      "needs_background": "light"
     },
     "output_type": "display_data"
    }
   ],
   "source": [
    "resid1 = model1.resid\n",
    "fitted1 = model1.fittedvalues\n",
    "#QQ plot of residuals\n",
    "fig1 = sm.qqplot(resid1,fit=True,line='45')\n",
    "#fitted v. residuals\n",
    "fig, ax = plt.subplots()\n",
    "_ = ax.scatter(fitted1, resid1)"
   ]
  },
  {
   "cell_type": "code",
   "execution_count": 24,
   "metadata": {},
   "outputs": [],
   "source": [
    "# Breusch-Pagan Test for Heteroscedasticity\n",
    "bptest = sms.diagnostic.het_breuschpagan(resid1,model1.model.exog)\n",
    "# White Test for Heteroscedasticity, including squares and cross-product of exog\n",
    "white_test = sms.diagnostic.het_white(resid1,model1.model.exog)"
   ]
  },
  {
   "cell_type": "code",
   "execution_count": 25,
   "metadata": {},
   "outputs": [
    {
     "name": "stdout",
     "output_type": "stream",
     "text": [
      "Breusch-Pagan Test and White LM Tests for Heteroscedasticity\n",
      "            Test Type     Chi-Sq  DF   Prob>Chi-Sq\n",
      "0  Breusch-Pagan Test  13.003549   2  3.109012e-04\n",
      "1          White Test  41.592622   4  9.295589e-10\n"
     ]
    }
   ],
   "source": [
    "print('Breusch-Pagan Test and White LM Tests for Heteroscedasticity')\n",
    "df1 = pd.DataFrame({'Test Type':['Breusch-Pagan Test', 'White Test'],\n",
    "                   'Chi-Sq':[bptest[0], white_test[0]], 'DF':[2, 4],\n",
    "                   'Prob>Chi-Sq':[bptest[1], white_test[1]]})\n",
    "print(df1)"
   ]
  },
  {
   "cell_type": "code",
   "execution_count": 26,
   "metadata": {},
   "outputs": [
    {
     "name": "stdout",
     "output_type": "stream",
     "text": [
      "                            OLS Regression Results                            \n",
      "==============================================================================\n",
      "Dep. Variable:                   Cmpg   R-squared:                       0.797\n",
      "Model:                            OLS   Adj. R-squared:                  0.797\n",
      "Method:                 Least Squares   F-statistic:                     1374.\n",
      "Date:                Sat, 20 Nov 2021   Prob (F-statistic):          4.56e-123\n",
      "Time:                        11:50:05   Log-Likelihood:                -691.56\n",
      "No. Observations:                 351   AIC:                             1387.\n",
      "Df Residuals:                     349   BIC:                             1395.\n",
      "Df Model:                           1                                         \n",
      "Covariance Type:            nonrobust                                         \n",
      "==============================================================================\n",
      "                 coef    std err          t      P>|t|      [0.025      0.975]\n",
      "------------------------------------------------------------------------------\n",
      "Intercept      9.7028      0.260     37.302      0.000       9.191      10.214\n",
      "Inv_eng       26.7067      0.720     37.071      0.000      25.290      28.124\n",
      "==============================================================================\n",
      "Omnibus:                       21.359   Durbin-Watson:                   1.126\n",
      "Prob(Omnibus):                  0.000   Jarque-Bera (JB):               26.435\n",
      "Skew:                          -0.512   Prob(JB):                     1.82e-06\n",
      "Kurtosis:                       3.872   Cond. No.                         8.65\n",
      "==============================================================================\n",
      "\n",
      "Notes:\n",
      "[1] Standard Errors assume that the covariance matrix of the errors is correctly specified.\n"
     ]
    }
   ],
   "source": [
    "model2 = smf.ols(formula = 'Cmpg ~ Inv_eng', data = df).fit()\n",
    "print(model2.summary())"
   ]
  },
  {
   "cell_type": "code",
   "execution_count": 27,
   "metadata": {},
   "outputs": [
    {
     "data": {
      "image/png": "[encoded data removed]",
      "text/plain": [
       "<Figure size 432x288 with 1 Axes>"
      ]
     },
     "metadata": {
      "needs_background": "light"
     },
     "output_type": "display_data"
    },
    {
     "data": {
      "image/png": "[encoded data removed]",
      "text/plain": [
       "<Figure size 432x288 with 1 Axes>"
      ]
     },
     "metadata": {
      "needs_background": "light"
     },
     "output_type": "display_data"
    }
   ],
   "source": [
    "resid2 = model2.resid\n",
    "fitted2 = model2.fittedvalues\n",
    "#QQ plot of residuals\n",
    "fig1 = sm.qqplot(resid2,fit=True,line='45')\n",
    "#fitted v. residuals\n",
    "fig, ax = plt.subplots()\n",
    "_ = ax.scatter(fitted2, resid2)\n"
   ]
  },
  {
   "cell_type": "code",
   "execution_count": null,
   "metadata": {},
   "outputs": [],
   "source": [
    "# Breusch-Pagan Test for Heteroscedasticity\n",
    "bptest = sms.diagnostic.het_breuschpagan(resid2,model2.model.exog)\n",
    "# White Test for Heteroscedasticity, including squares and cross-product of exog\n",
    "white_test = sms.diagnostic.het_white(resid2,model2.model.exog)"
   ]
  },
  {
   "cell_type": "code",
   "execution_count": null,
   "metadata": {},
   "outputs": [],
   "source": [
    "print('Breusch-Pagan Test and White LM Tests for Heteroscedasticity')\n",
    "df2 = pd.DataFrame({'Test Type':['Breusch-Pagan Test', 'White Test'],\n",
    "                   'Chi-Sq':[bptest[0], white_test[0]], 'DF':[2, 4],\n",
    "                   'Prob>Chi-Sq':[bptest[1], white_test[1]]})\n",
    "print(df2)"
   ]
  },
  {
   "cell_type": "code",
   "execution_count": null,
   "metadata": {},
   "outputs": [],
   "source": [
    "df[\"Inv_cmpg\"] = 1/df[\"Cmpg\"] "
   ]
  },
  {
   "cell_type": "code",
   "execution_count": null,
   "metadata": {},
   "outputs": [],
   "source": [
    "model3 = smf.ols(formula = 'Inv_cmpg ~ Inv_eng', data = df).fit()\n",
    "print(model3.summary())"
   ]
  },
  {
   "cell_type": "code",
   "execution_count": null,
   "metadata": {},
   "outputs": [],
   "source": [
    "resid3 = model3.resid\n",
    "fitted3 = model3.fittedvalues\n",
    "#QQ plot of residuals\n",
    "fig1 = sm.qqplot(resid3,fit=True,line='45')\n",
    "#fitted v. residuals\n",
    "fig, ax = plt.subplots()\n",
    "_ = ax.scatter(fitted3, resid3)"
   ]
  },
  {
   "cell_type": "code",
   "execution_count": null,
   "metadata": {},
   "outputs": [],
   "source": [
    "# Breusch-Pagan Test for Heteroscedasticity\n",
    "bptest = sms.diagnostic.het_breuschpagan(resid3,model3.model.exog)\n",
    "# White Test for Heteroscedasticity, including squares and cross-product of exog\n",
    "white_test = sms.diagnostic.het_white(resid3,model3.model.exog)"
   ]
  },
  {
   "cell_type": "code",
   "execution_count": null,
   "metadata": {},
   "outputs": [],
   "source": [
    "print('Breusch-Pagan Test and White LM Tests for Heteroscedasticity')\n",
    "df3 = pd.DataFrame({'Test Type':['Breusch-Pagan Test', 'White Test'],\n",
    "                   'Chi-Sq':[bptest[0], white_test[0]], 'DF':[2, 4],\n",
    "                   'Prob>Chi-Sq':[bptest[1], white_test[1]]})\n",
    "print(df3)"
   ]
  },
  {
   "cell_type": "code",
   "execution_count": null,
   "metadata": {},
   "outputs": [],
   "source": [
    "df[\"lncmpg\"] = np.log(df[\"Cmpg\"])\n",
    "df[\"lneng\"] = np.log(df[\"Eng\"])"
   ]
  },
  {
   "cell_type": "code",
   "execution_count": null,
   "metadata": {},
   "outputs": [],
   "source": [
    "model4 = smf.ols(formula = 'lncmpg ~ lneng', data = df).fit()\n",
    "print(model4.summary())\n",
    "resid4 = model4.resid\n",
    "fitted4 = model4.fittedvalues\n",
    "#QQ plot of residuals\n",
    "fig1 = sm.qqplot(resid4,fit=True,line='45')\n",
    "#fitted v. residuals\n",
    "fig, ax = plt.subplots()\n",
    "_ = ax.scatter(fitted4, resid4)\n",
    "\n",
    "# Breusch-Pagan Test for Heteroscedasticity\n",
    "bptest = sms.diagnostic.het_breuschpagan(resid4,model4.model.exog)\n",
    "# White Test for Heteroscedasticity, including squares and cross-product of exog\n",
    "white_test = sms.diagnostic.het_white(resid4,model4.model.exog)\n",
    "\n",
    "print('Breusch-Pagan Test and White LM Tests for Heteroscedasticity')\n",
    "df4 = pd.DataFrame({'Test Type':['Breusch-Pagan Test', 'White Test'],\n",
    "                   'Chi-Sq':[bptest[0], white_test[0]], 'DF':[2, 4],\n",
    "                   'Prob>Chi-Sq':[bptest[1], white_test[1]]})\n",
    "print(df4)"
   ]
  },
  {
   "cell_type": "code",
   "execution_count": null,
   "metadata": {},
   "outputs": [],
   "source": [
    "# Breusch-Pagan Test for Heteroscedasticity\n",
    "bptest = sms.diagnostic.het_breuschpagan(resid4,model4.model.exog)\n",
    "# White Test for Heteroscedasticity, including squares and cross-product of exog\n",
    "white_test = sms.diagnostic.het_white(resid4,model4.model.exog)\n",
    "\n",
    "print('Breusch-Pagan Test and White LM Tests for Heteroscedasticity')\n",
    "df4 = pd.DataFrame({'Test Type':['Breusch-Pagan Test', 'White Test'],\n",
    "                   'Chi-Sq':[bptest[0], white_test[0]], 'DF':[2, 4],\n",
    "                   'Prob>Chi-Sq':[bptest[1], white_test[1]]})\n",
    "print(df4)"
   ]
  }
 ],
 "metadata": {
  "kernelspec": {
   "display_name": "Python 3",
   "language": "python",
   "name": "python3"
  },
  "language_info": {
   "codemirror_mode": {
    "name": "ipython",
    "version": 3
   },
   "file_extension": ".py",
   "mimetype": "text/x-python",
   "name": "python",
   "nbconvert_exporter": "python",
   "pygments_lexer": "ipython3",
   "version": "3.9.7"
  }
 },
 "nbformat": 4,
 "nbformat_minor": 4
}
